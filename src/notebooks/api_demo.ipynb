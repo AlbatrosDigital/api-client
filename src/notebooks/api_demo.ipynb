{
 "cells": [
  {
   "cell_type": "markdown",
   "id": "7329c882-cf01-4bc4-8fb2-7bfbccde58ca",
   "metadata": {},
   "source": [
    "# AlbatrosDigital API client demo\n",
    "\n",
    "This notebook is intended to provide a quick demo of the functionality provided by the Shipyard API.\n",
    "It will provide examples of all endpoints and should be used as a tutorial.\n",
    "\n",
    "The API is available at `https://api.albatros.digital/graphql`.\n",
    "\n",
    "As per graphQL specs, queries to the api should be using the `http POST` method.\n",
    "For complete documentation, there is a Graphiql interface is available at the same endpoint via a `http GET` request, or simply navigating to that address with a browser.\n",
    "\n",
    "\n",
    "# Imports and initiation"
   ]
  },
  {
   "cell_type": "code",
   "execution_count": 41,
   "id": "2ba7cb75-8ef6-449e-be35-f73d9966c9c3",
   "metadata": {},
   "outputs": [],
   "source": [
    "import sys\n",
    "import os\n",
    "\n",
    "# first, make sure that the src directory is in the python path\n",
    "nb_dir = os.path.split(os.getcwd())[0]\n",
    "sys.path.append(nb_dir)\n",
    "\n",
    "from pprint import pprint\n",
    "\n",
    "from gql import gql, Client\n",
    "from gql.transport.requests import RequestsHTTPTransport\n",
    "import pandas as pd\n",
    "\n",
    "\n",
    "# initialize our API client\n",
    "transport = RequestsHTTPTransport(url=\"https://api.albatros.digital/graphql\", headers={})\n",
    "client = Client(transport=transport, execute_timeout=30)"
   ]
  },
  {
   "cell_type": "markdown",
   "id": "a8e21c10",
   "metadata": {},
   "source": [
    "## Check the api version\n",
    "\n",
    "Just to be sure that everything is set up correctly"
   ]
  },
  {
   "cell_type": "code",
   "execution_count": 42,
   "id": "bf6eb2ae",
   "metadata": {},
   "outputs": [
    {
     "name": "stdout",
     "output_type": "stream",
     "text": [
      "version: 1.2.0\n"
     ]
    }
   ],
   "source": [
    "from lib.queries import version\n",
    "\n",
    "query = gql(version)\n",
    "result = client.execute(query)\n",
    "print(\"version:\", result[\"version\"])"
   ]
  },
  {
   "cell_type": "markdown",
   "id": "9ebab0a0-5500-478a-a268-c7ed54f66dfe",
   "metadata": {},
   "source": [
    "# Login to obtain a JWT token\n",
    "\n",
    "With the login endpoint and a username and password, a JWT token can be obtained. The access token is valid for 24 hours, after that a new token has to be obtained."
   ]
  },
  {
   "cell_type": "code",
   "execution_count": 43,
   "id": "dbec642b-743b-466c-a035-724581ab38cf",
   "metadata": {},
   "outputs": [
    {
     "name": "stdout",
     "output_type": "stream",
     "text": [
      "Invalid credentials\n"
     ]
    }
   ],
   "source": [
    "from lib.queries import login\n",
    "\n",
    "username=\"client\"\n",
    "password=\"secret\"\n",
    "\n",
    "query=gql(login)\n",
    "params = {\n",
    "    \"username\": username, \n",
    "    \"password\": password\n",
    "}\n",
    "\n",
    "result = client.execute(query, variable_values=params)\n",
    "\n",
    "# basic error handling\n",
    "if result['login']['__typename'] == \"LoginError\":\n",
    "    print(result['login']['message'])\n",
    "else:\n",
    "    token = result['login']['token']['accessToken']\n",
    "    transport.headers[\"Authorization\"] = f\"Bearer {token}\""
   ]
  },
  {
   "cell_type": "markdown",
   "id": "f3cb7acc-69eb-45f8-a321-f6ee97830345",
   "metadata": {},
   "source": [
    "# Digital Ships\n",
    "\n",
    "The following section provides a quick run through the available\n",
    "\n",
    "### First, let's see which Digital Ships are available"
   ]
  },
  {
   "cell_type": "code",
   "execution_count": 30,
   "id": "095f4c8f",
   "metadata": {},
   "outputs": [
    {
     "name": "stdout",
     "output_type": "stream",
     "text": [
      "<class 'dict'>\n",
      "{'data': [{'id': 'bf61635a-9700-48dc-98c2-2509f389a234',\n",
      "           'modelType': {'readableName': 'Trial'},\n",
      "           'name': 'SARC demo'},\n",
      "          {'id': '29e5d494-c1fd-4661-bc59-9d40e98153e7',\n",
      "           'modelType': {'readableName': 'Trial'},\n",
      "           'name': 'BULKER HANDYMAX TRIAL'},\n",
      "          {'id': 'c87a4caa-5cdb-4cdb-af32-ba710c2fa8b6',\n",
      "           'modelType': {'readableName': 'Type Ship'},\n",
      "           'name': 'CONTAINER PANAMAX'},\n",
      "          {'id': '977242a2-4536-4a5d-8f2d-351ba07371f4',\n",
      "           'modelType': {'readableName': 'Type Ship'},\n",
      "           'name': 'BULKER HANDYMAX2'}],\n",
      " 'meta': {'count': 4, 'limit': 10, 'offset': 0}}\n"
     ]
    }
   ],
   "source": [
    "query = gql(\"\"\"\n",
    "    query digital_ship($limit: Int, $offset: Int) {\n",
    "        digitalShip {\n",
    "            list(limit: $limit, offset: $offset) {\n",
    "                meta {\n",
    "                    count\n",
    "                    limit\n",
    "                    offset\n",
    "                }\n",
    "                data {\n",
    "                    id\n",
    "                    name\n",
    "                    modelType {\n",
    "                        readableName\n",
    "                    }\n",
    "                }\n",
    "            }\n",
    "        } \n",
    "    }\n",
    "\"\"\")\n",
    "\n",
    "result = client.execute(query, variable_values={\"limit\": 10, \"offset\": 0})\n",
    "\n",
    "print(type(result))\n",
    "pprint(result['digitalShip']['list'])"
   ]
  },
  {
   "cell_type": "markdown",
   "id": "bff3214c",
   "metadata": {},
   "source": [
    "### Now, let's have a closer look at one of the models. For the `id` variable, choose one of the vessel id's from the previous result.\n",
    "\n",
    "(Hint: for performance purposes, it might be wise to pick one of the models with modelType=`Trial`)"
   ]
  },
  {
   "cell_type": "code",
   "execution_count": 31,
   "id": "e936ae9d",
   "metadata": {},
   "outputs": [
    {
     "name": "stdout",
     "output_type": "stream",
     "text": [
      "<class 'dict'>\n",
      "{'company': {'name': 'AlbatrosDigital'},\n",
      " 'drafts': [{'draft': 7.0,\n",
      "             'failureCount': 0,\n",
      "             'loadcaseCount': 384,\n",
      "             'name': 'ballast_draft'},\n",
      "            {'draft': 10.1,\n",
      "             'failureCount': 0,\n",
      "             'loadcaseCount': 384,\n",
      "             'name': 'design_draft'},\n",
      "            {'draft': 10.6,\n",
      "             'failureCount': 0,\n",
      "             'loadcaseCount': 384,\n",
      "             'name': 'scantling_draft'}],\n",
      " 'id': '29e5d494-c1fd-4661-bc59-9d40e98153e7',\n",
      " 'modelType': {'readableName': 'Trial'},\n",
      " 'name': 'BULKER HANDYMAX TRIAL',\n",
      " 'outputVariables': ['Draft [m]',\n",
      "                     'Speed [m/s]',\n",
      "                     'TWS [m/s]',\n",
      "                     'TWA [deg]',\n",
      "                     'Wave direction [deg]',\n",
      "                     'Wave height Hs [m]',\n",
      "                     'FC ME [ton/day]',\n",
      "                     'Heel [deg]',\n",
      "                     'Leeway [deg]',\n",
      "                     'Rudder angle [deg]',\n",
      "                     'Power brake [kW]'],\n",
      " 'shipData': {'beam': 30.0,\n",
      "              'csr': 6750.0,\n",
      "              'deadweight': 34613.0,\n",
      "              'depth': 14.7,\n",
      "              'drafts': {'ballast_draft': 7.0,\n",
      "                         'design_draft': 10.1,\n",
      "                         'scantling_draft': 10.6},\n",
      "              'grossTonnage': 24210.0,\n",
      "              'lengthOverall': 180.0,\n",
      "              'shipType': 'Bulk carrier',\n",
      "              'speedAtCsr': 6.0,\n",
      "              'typeOfFuel': None},\n",
      " 'status': 'completed'}\n"
     ]
    }
   ],
   "source": [
    "vessel_id = \"29e5d494-c1fd-4661-bc59-9d40e98153e7\"\n",
    "\n",
    "query = gql(\"\"\"\n",
    "    query digital_ship($id: String!) {\n",
    "        digitalShip {\n",
    "            get(id: $id) {\n",
    "                modelType {\n",
    "                    readableName\n",
    "                }\n",
    "                id\n",
    "                status\n",
    "                name\n",
    "                shipData {\n",
    "                    shipType\n",
    "                    lengthOverall\n",
    "                    beam\n",
    "                    depth\n",
    "                    drafts\n",
    "                    csr\n",
    "                    deadweight\n",
    "                    grossTonnage\n",
    "                    typeOfFuel\n",
    "                    speedAtCsr\n",
    "                }\n",
    "                outputVariables\n",
    "                company {\n",
    "                    name\n",
    "                }\n",
    "                drafts {\n",
    "                    name\n",
    "                    draft\n",
    "                    loadcaseCount\n",
    "                    failureCount\n",
    "                }\n",
    "            }\n",
    "        } \n",
    "    }\n",
    "\"\"\")\n",
    "\n",
    "result = client.execute(query, variable_values={\"id\": vessel_id})\n",
    "\n",
    "print(type(result))\n",
    "pprint(result['digitalShip']['get'])"
   ]
  },
  {
   "cell_type": "markdown",
   "id": "ba2e8537",
   "metadata": {},
   "source": [
    "As you can see, there is already a significant amount of data available on the Ship. This is still not a complete set of the available fields. For that, the introspection endpoint (or the graphiql dev environment) can be queried.\n",
    "It's worth noting that all these fields are also available on the list endpoint from the previous cell, they are just not queried to keep the amount of returned data acceptable.\n",
    "\n",
    "### FuelTable\n",
    "\n",
    "From here, let's have a look at the actuel model, or, as it is called in the api: the fuel table. Note that the headers of the fueltable are identical to the `outputVariables` field in the cell above. These are all the variables that are available for this model."
   ]
  },
  {
   "cell_type": "code",
   "execution_count": 40,
   "id": "3a804b2a",
   "metadata": {},
   "outputs": [
    {
     "name": "stdout",
     "output_type": "stream",
     "text": [
      "Index(['Draft [m]', 'Speed [m/s]', 'TWS [m/s]', 'TWA [deg]',\n",
      "       'Wave direction [deg]', 'Wave height Hs [m]', 'FC ME [ton/day]',\n",
      "       'Heel [deg]', 'Leeway [deg]', 'Rudder angle [deg]', 'Power brake [kW]'],\n",
      "      dtype='object')\n"
     ]
    }
   ],
   "source": [
    "# input parameters\n",
    "vessel_id = \"29e5d494-c1fd-4661-bc59-9d40e98153e7\"\n",
    "\n",
    "# optional values, can be used to filter the fuel table\n",
    "draft = None\n",
    "speed = None\n",
    "tws = None\n",
    "twa = None\n",
    "waveDir = None\n",
    "sigWaveHeight = None\n",
    "\n",
    "query = gql(\"\"\"\n",
    "    query fuelTable($id: String!, $draft: String, $speed: Float, $tws: Float, $twa: Float, $waveDir: Float, $sigWaveHeight: Float) {\n",
    "        digitalShip {\n",
    "            get(id: $id) {\n",
    "                fuelTable(draft: $draft, speed: $speed, tws: $tws, twa: $twa, waveDir: $waveDir, sigWaveHeight: $sigWaveHeight)\n",
    "            }\n",
    "        }\n",
    "    }\n",
    "\"\"\")\n",
    "\n",
    "result = client.execute(query, variable_values={\n",
    "    \"id\": vessel_id,\n",
    "    \"draft\": draft,\n",
    "    \"speed\": speed,\n",
    "    \"tws\": tws,\n",
    "    \"twa\": twa,\n",
    "    \"waveDir\": waveDir,\n",
    "    \"sigWaveHeight\": sigWaveHeight\n",
    "})\n",
    "\n",
    "fuel_table = result['digitalShip']['get']['fuelTable']\n",
    "fuel_table_df = pd.DataFrame(fuel_table)\n",
    "\n",
    "print(fuel_table_df.columns)"
   ]
  },
  {
   "cell_type": "markdown",
   "id": "b6fab238",
   "metadata": {},
   "source": [
    "Now to the content of the fueltable. "
   ]
  },
  {
   "cell_type": "code",
   "execution_count": 39,
   "id": "ac6803e5",
   "metadata": {},
   "outputs": [
    {
     "name": "stdout",
     "output_type": "stream",
     "text": [
      "      Draft [m]  Speed [m/s]  TWS [m/s]  TWA [deg]  Wave direction [deg]  \\\n",
      "0          10.6          4.5        0.0        0.0                   0.0   \n",
      "1          10.6          4.5        0.0        0.0                  60.0   \n",
      "2          10.6          4.5        0.0        0.0                 120.0   \n",
      "3          10.6          4.5        0.0        0.0                 180.0   \n",
      "4          10.6          4.5        0.0        0.0                   0.0   \n",
      "...         ...          ...        ...        ...                   ...   \n",
      "1147        7.0          6.0       15.0      180.0                 180.0   \n",
      "1148        7.0          6.0       15.0      180.0                   0.0   \n",
      "1149        7.0          6.0       15.0      180.0                  60.0   \n",
      "1150        7.0          6.0       15.0      180.0                 120.0   \n",
      "1151        7.0          6.0       15.0      180.0                 180.0   \n",
      "\n",
      "      Wave height Hs [m]  FC ME [ton/day]  Heel [deg]  Leeway [deg]  \\\n",
      "0                    0.0             8.92         0.0           0.0   \n",
      "1                    0.0             8.92         0.0           0.0   \n",
      "2                    0.0             8.92         0.0           0.0   \n",
      "3                    0.0             8.92         0.0           0.0   \n",
      "4                    2.0            10.96         0.0           0.0   \n",
      "...                  ...              ...         ...           ...   \n",
      "1147                 2.0            13.41         0.0           0.0   \n",
      "1148                 4.0            26.16         0.0           0.0   \n",
      "1149                 4.0            19.58         0.0           0.0   \n",
      "1150                 4.0            17.94         0.0           0.0   \n",
      "1151                 4.0            16.32         0.0           0.0   \n",
      "\n",
      "      Rudder angle [deg]  Power brake [kW]  \n",
      "0                    0.0           1881.58  \n",
      "1                    0.0           1881.58  \n",
      "2                    0.0           1881.58  \n",
      "3                    0.0           1881.58  \n",
      "4                    0.0           2373.82  \n",
      "...                  ...               ...  \n",
      "1147                 0.0           2989.24  \n",
      "1148                 0.0           6217.82  \n",
      "1149                 0.0           4601.42  \n",
      "1150                 0.0           4173.49  \n",
      "1151                 0.0           3746.35  \n",
      "\n",
      "[1152 rows x 11 columns]\n"
     ]
    }
   ],
   "source": [
    "print(fuel_table_df)"
   ]
  },
  {
   "cell_type": "markdown",
   "id": "64f54fe0",
   "metadata": {},
   "source": [
    "A fuel table of a Digital Ship contains a complete matrix of drafts, ship speeds, wind directions, wind speeds, significant wave heigts and wave directions. The grid size in each of these variables - and hence the total amount of rows - is determined by the model type. \n",
    "\n",
    "At the time of writing, the following model types exist:\n",
    "- Trial: 1151 rows\n",
    "- Type Ship: ~200k rows\n",
    "- IMO-referenced Ship: ~200k rows"
   ]
  }
 ],
 "metadata": {
  "kernelspec": {
   "display_name": "api-client",
   "language": "python",
   "name": "python3"
  },
  "language_info": {
   "codemirror_mode": {
    "name": "ipython",
    "version": 3
   },
   "file_extension": ".py",
   "mimetype": "text/x-python",
   "name": "python",
   "nbconvert_exporter": "python",
   "pygments_lexer": "ipython3",
   "version": "3.12.5"
  }
 },
 "nbformat": 4,
 "nbformat_minor": 5
}
