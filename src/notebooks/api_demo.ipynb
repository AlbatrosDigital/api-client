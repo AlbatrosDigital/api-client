{
 "cells": [
  {
   "cell_type": "markdown",
   "id": "7329c882-cf01-4bc4-8fb2-7bfbccde58ca",
   "metadata": {},
   "source": [
    "# AlbatrosDigital API client demo\n",
    "\n",
    "This notebook is intended to provide a quick demo of the functionality provided by the Shipyard API.\n",
    "It will provide examples of all endpoints and should be used as a tutorial.\n",
    "\n",
    "The API is available at `https://api.albatros.digital/graphql`.\n",
    "\n",
    "As per graphQL specs, queries to the api should be using the `http POST` method.\n",
    "For complete documentation, there is a Graphiql interface is available at the same endpoint via a `http GET` request, or simply navigating to that address with a browser.\n",
    "\n",
    "\n",
    "# Imports and initiation"
   ]
  },
  {
   "cell_type": "code",
   "execution_count": 1,
   "id": "2ba7cb75-8ef6-449e-be35-f73d9966c9c3",
   "metadata": {},
   "outputs": [],
   "source": [
    "import sys\n",
    "import os\n",
    "\n",
    "# first, make sure that the src directory is in the python path\n",
    "nb_dir = os.path.split(os.getcwd())[0]\n",
    "sys.path.append(nb_dir)\n",
    "\n",
    "from pprint import pprint\n",
    "\n",
    "from gql import gql, Client\n",
    "from gql.transport.requests import RequestsHTTPTransport\n",
    "import pandas as pd\n",
    "\n",
    "\n",
    "# initialize our API client\n",
    "transport = RequestsHTTPTransport(url=\"https://api.albatros.digital/graphql\", headers={})\n",
    "client = Client(transport=transport, execute_timeout=30)"
   ]
  },
  {
   "cell_type": "markdown",
   "id": "a8e21c10",
   "metadata": {},
   "source": [
    "## Check the api version\n",
    "\n",
    "Just to be sure that everything is set up correctly"
   ]
  },
  {
   "cell_type": "code",
   "execution_count": 59,
   "id": "bf6eb2ae",
   "metadata": {},
   "outputs": [
    {
     "name": "stdout",
     "output_type": "stream",
     "text": [
      "version: 1.2.0\n"
     ]
    }
   ],
   "source": [
    "from lib.queries import version\n",
    "\n",
    "query = gql(version)\n",
    "result = client.execute(query)\n",
    "print(\"version:\", result[\"version\"])"
   ]
  },
  {
   "cell_type": "markdown",
   "id": "9ebab0a0-5500-478a-a268-c7ed54f66dfe",
   "metadata": {},
   "source": [
    "# Login to obtain a JWT token\n",
    "\n",
    "With the login endpoint and a username and password, a JWT token can be obtained. The access token is valid for 24 hours, after that a new token has to be obtained."
   ]
  },
  {
   "cell_type": "code",
   "execution_count": 2,
   "id": "dbec642b-743b-466c-a035-724581ab38cf",
   "metadata": {},
   "outputs": [],
   "source": [
    "from lib.queries import login\n",
    "\n",
    "username=\"client\"\n",
    "password=\"\"\n",
    "\n",
    "query=gql(login)\n",
    "params = {\n",
    "    \"username\": username, \n",
    "    \"password\": password\n",
    "}\n",
    "\n",
    "result = client.execute(query, variable_values=params)\n",
    "\n",
    "# basic error handling\n",
    "if result['login']['__typename'] == \"LoginError\":\n",
    "    print(result['login']['message'])\n",
    "else:\n",
    "    token = result['login']['token']['accessToken']\n",
    "    transport.headers[\"Authorization\"] = f\"Bearer {token}\""
   ]
  },
  {
   "cell_type": "markdown",
   "id": "f3cb7acc-69eb-45f8-a321-f6ee97830345",
   "metadata": {},
   "source": [
    "# Digital Ships\n",
    "\n",
    "The following section provides a quick run through the available\n",
    "\n",
    "### First, let's see which Digital Ships are available"
   ]
  },
  {
   "cell_type": "code",
   "execution_count": 61,
   "id": "095f4c8f",
   "metadata": {},
   "outputs": [
    {
     "name": "stdout",
     "output_type": "stream",
     "text": [
      "<class 'dict'>\n",
      "{'data': [{'id': 'bf61635a-9700-48dc-98c2-2509f389a234',\n",
      "           'modelType': {'readableName': 'Trial'},\n",
      "           'name': 'SARC demo'},\n",
      "          {'id': '29e5d494-c1fd-4661-bc59-9d40e98153e7',\n",
      "           'modelType': {'readableName': 'Trial'},\n",
      "           'name': 'BULKER HANDYMAX TRIAL'},\n",
      "          {'id': 'c87a4caa-5cdb-4cdb-af32-ba710c2fa8b6',\n",
      "           'modelType': {'readableName': 'Type Ship'},\n",
      "           'name': 'CONTAINER PANAMAX'},\n",
      "          {'id': '977242a2-4536-4a5d-8f2d-351ba07371f4',\n",
      "           'modelType': {'readableName': 'Type Ship'},\n",
      "           'name': 'BULKER HANDYMAX2'}],\n",
      " 'meta': {'count': 4, 'limit': 10, 'offset': 0}}\n"
     ]
    }
   ],
   "source": [
    "query = gql(\"\"\"\n",
    "    query digital_ship($limit: Int, $offset: Int) {\n",
    "        digitalShip {\n",
    "            list(limit: $limit, offset: $offset) {\n",
    "                meta {\n",
    "                    count\n",
    "                    limit\n",
    "                    offset\n",
    "                }\n",
    "                data {\n",
    "                    id\n",
    "                    name\n",
    "                    modelType {\n",
    "                        readableName\n",
    "                    }\n",
    "                }\n",
    "            }\n",
    "        } \n",
    "    }\n",
    "\"\"\")\n",
    "\n",
    "result = client.execute(query, variable_values={\"limit\": 10, \"offset\": 0})\n",
    "\n",
    "print(type(result))\n",
    "pprint(result['digitalShip']['list'])"
   ]
  },
  {
   "cell_type": "markdown",
   "id": "bff3214c",
   "metadata": {},
   "source": [
    "### Now, let's have a closer look at one of the models. For the `id` variable, choose one of the vessel id's from the previous result.\n",
    "\n",
    "(Hint: for performance purposes, it might be wise to pick one of the models with modelType=`Trial`)"
   ]
  },
  {
   "cell_type": "code",
   "execution_count": 76,
   "id": "e936ae9d",
   "metadata": {},
   "outputs": [
    {
     "name": "stdout",
     "output_type": "stream",
     "text": [
      "<class 'dict'>\n",
      "{'company': {'name': 'AlbatrosDigital'},\n",
      " 'drafts': [{'draft': 13.5,\n",
      "             'failureCount': 0,\n",
      "             'loadcaseCount': 95004,\n",
      "             'name': 'scantling_draft'},\n",
      "            {'draft': 12.0,\n",
      "             'failureCount': 0,\n",
      "             'loadcaseCount': 95004,\n",
      "             'name': 'design_draft'},\n",
      "            {'draft': 8.0,\n",
      "             'failureCount': 0,\n",
      "             'loadcaseCount': 95004,\n",
      "             'name': 'ballast_draft'}],\n",
      " 'id': 'c87a4caa-5cdb-4cdb-af32-ba710c2fa8b6',\n",
      " 'modelType': {'readableName': 'Type Ship'},\n",
      " 'name': 'CONTAINER PANAMAX',\n",
      " 'outputVariables': ['Draft [m]',\n",
      "                     'Speed [m/s]',\n",
      "                     'TWS [m/s]',\n",
      "                     'TWA [deg]',\n",
      "                     'Wave direction [deg]',\n",
      "                     'Wave height Hs [m]',\n",
      "                     'FC ME [ton/day]',\n",
      "                     'Power brake [kW]',\n",
      "                     'Engine flag [-]',\n",
      "                     'FC ME LIM [ton/day]',\n",
      "                     'Power brake LIM [kW]'],\n",
      " 'shipData': {'beam': 32.2,\n",
      "              'csr': 37017.0,\n",
      "              'deadweight': 55922.0,\n",
      "              'depth': 21.6,\n",
      "              'drafts': {'ballast_draft': 8,\n",
      "                         'design_draft': 12,\n",
      "                         'scantling_draft': 13.5},\n",
      "              'grossTonnage': 54778.0,\n",
      "              'lengthOverall': 290.0,\n",
      "              'shipType': 'Container Ship',\n",
      "              'speedAtCsr': 11.66,\n",
      "              'typeOfFuel': 'MDO/HFO'},\n",
      " 'status': 'completed'}\n"
     ]
    }
   ],
   "source": [
    "vessel_id = \"c87a4caa-5cdb-4cdb-af32-ba710c2fa8b6\"\n",
    "\n",
    "query = gql(\"\"\"\n",
    "    query digital_ship($id: String!) {\n",
    "        digitalShip {\n",
    "            get(id: $id) {\n",
    "                modelType {\n",
    "                    readableName\n",
    "                }\n",
    "                id\n",
    "                status\n",
    "                name\n",
    "                shipData {\n",
    "                    shipType\n",
    "                    lengthOverall\n",
    "                    beam\n",
    "                    depth\n",
    "                    drafts\n",
    "                    csr\n",
    "                    deadweight\n",
    "                    grossTonnage\n",
    "                    typeOfFuel\n",
    "                    speedAtCsr\n",
    "                }\n",
    "                outputVariables\n",
    "                company {\n",
    "                    name\n",
    "                }\n",
    "                drafts {\n",
    "                    name\n",
    "                    draft\n",
    "                    loadcaseCount\n",
    "                    failureCount\n",
    "                }\n",
    "            }\n",
    "        } \n",
    "    }\n",
    "\"\"\")\n",
    "\n",
    "result = client.execute(query, variable_values={\"id\": vessel_id})\n",
    "\n",
    "print(type(result))\n",
    "pprint(result['digitalShip']['get'])"
   ]
  },
  {
   "cell_type": "markdown",
   "id": "ba2e8537",
   "metadata": {},
   "source": [
    "As you can see, there is already a significant amount of data available on the Ship. This is still not a complete set of the available fields. For that, the introspection endpoint (or the graphiql dev environment) can be queried.\n",
    "It's worth noting that all these fields are also available on the list endpoint from the previous cell, they are just not queried to keep the amount of returned data acceptable.\n",
    "\n",
    "### FuelTable\n",
    "\n",
    "From here, let's have a look at the actuel model, or, as it is called in the api: the fuel table. Note that the headers of the fueltable are identical to the `outputVariables` field in the cell above. These are all the variables that are available for this model."
   ]
  },
  {
   "cell_type": "code",
   "execution_count": 69,
   "id": "3a804b2a",
   "metadata": {},
   "outputs": [
    {
     "name": "stdout",
     "output_type": "stream",
     "text": [
      "Index(['Draft [m]', 'Speed [m/s]', 'TWS [m/s]', 'TWA [deg]',\n",
      "       'Wave direction [deg]', 'Wave height Hs [m]', 'FC ME [ton/day]',\n",
      "       'Heel [deg]', 'Leeway [deg]', 'Rudder angle [deg]', 'Power brake [kW]'],\n",
      "      dtype='object')\n"
     ]
    }
   ],
   "source": [
    "# input parameters\n",
    "vessel_id = \"29e5d494-c1fd-4661-bc59-9d40e98153e7\"\n",
    "\n",
    "# optional values, can be used to filter the fuel table\n",
    "draft = None\n",
    "speed = None\n",
    "tws = None\n",
    "twa = None\n",
    "waveDir = None\n",
    "sigWaveHeight = None\n",
    "\n",
    "query = gql(\"\"\"\n",
    "    query fuelTable($id: String!, $draft: String, $speed: Float, $tws: Float, $twa: Float, $waveDir: Float, $sigWaveHeight: Float) {\n",
    "        digitalShip {\n",
    "            get(id: $id) {\n",
    "                fuelTable(draft: $draft, speed: $speed, tws: $tws, twa: $twa, waveDir: $waveDir, sigWaveHeight: $sigWaveHeight)\n",
    "            }\n",
    "        }\n",
    "    }\n",
    "\"\"\")\n",
    "\n",
    "result = client.execute(query, variable_values={\n",
    "    \"id\": vessel_id,\n",
    "    \"draft\": draft,\n",
    "    \"speed\": speed,\n",
    "    \"tws\": tws,\n",
    "    \"twa\": twa,\n",
    "    \"waveDir\": waveDir,\n",
    "    \"sigWaveHeight\": sigWaveHeight\n",
    "})\n",
    "\n",
    "fuel_table = result['digitalShip']['get']['fuelTable']\n",
    "fuel_table_df = pd.DataFrame(fuel_table)\n",
    "\n",
    "print(fuel_table_df.columns)"
   ]
  },
  {
   "cell_type": "markdown",
   "id": "b6fab238",
   "metadata": {},
   "source": [
    "Now to the content of the fueltable. "
   ]
  },
  {
   "cell_type": "code",
   "execution_count": 70,
   "id": "ac6803e5",
   "metadata": {},
   "outputs": [
    {
     "name": "stdout",
     "output_type": "stream",
     "text": [
      "      Draft [m]  Speed [m/s]  TWS [m/s]  TWA [deg]  Wave direction [deg]  \\\n",
      "0          10.6          4.5        0.0        0.0                   0.0   \n",
      "1          10.6          4.5        0.0        0.0                  60.0   \n",
      "2          10.6          4.5        0.0        0.0                 120.0   \n",
      "3          10.6          4.5        0.0        0.0                 180.0   \n",
      "4          10.6          4.5        0.0        0.0                   0.0   \n",
      "...         ...          ...        ...        ...                   ...   \n",
      "1147        7.0          6.0       15.0      180.0                 180.0   \n",
      "1148        7.0          6.0       15.0      180.0                   0.0   \n",
      "1149        7.0          6.0       15.0      180.0                  60.0   \n",
      "1150        7.0          6.0       15.0      180.0                 120.0   \n",
      "1151        7.0          6.0       15.0      180.0                 180.0   \n",
      "\n",
      "      Wave height Hs [m]  FC ME [ton/day]  Heel [deg]  Leeway [deg]  \\\n",
      "0                    0.0             8.92         0.0           0.0   \n",
      "1                    0.0             8.92         0.0           0.0   \n",
      "2                    0.0             8.92         0.0           0.0   \n",
      "3                    0.0             8.92         0.0           0.0   \n",
      "4                    2.0            10.96         0.0           0.0   \n",
      "...                  ...              ...         ...           ...   \n",
      "1147                 2.0            13.41         0.0           0.0   \n",
      "1148                 4.0            26.16         0.0           0.0   \n",
      "1149                 4.0            19.58         0.0           0.0   \n",
      "1150                 4.0            17.94         0.0           0.0   \n",
      "1151                 4.0            16.32         0.0           0.0   \n",
      "\n",
      "      Rudder angle [deg]  Power brake [kW]  \n",
      "0                    0.0           1881.58  \n",
      "1                    0.0           1881.58  \n",
      "2                    0.0           1881.58  \n",
      "3                    0.0           1881.58  \n",
      "4                    0.0           2373.82  \n",
      "...                  ...               ...  \n",
      "1147                 0.0           2989.24  \n",
      "1148                 0.0           6217.82  \n",
      "1149                 0.0           4601.42  \n",
      "1150                 0.0           4173.49  \n",
      "1151                 0.0           3746.35  \n",
      "\n",
      "[1152 rows x 11 columns]\n"
     ]
    }
   ],
   "source": [
    "print(fuel_table_df)"
   ]
  },
  {
   "cell_type": "markdown",
   "id": "64f54fe0",
   "metadata": {},
   "source": [
    "A fuel table of a Digital Ship contains a complete matrix of drafts, ship speeds, wind directions, wind speeds, significant wave heigts and wave directions. The grid size in each of these variables - and hence the total amount of rows - is determined by the model type. \n",
    "\n",
    "At the time of writing, the following model types exist:\n",
    "- Trial: 1151 rows\n",
    "- Type Ship: ~200k rows\n",
    "- IMO-referenced Ship: ~200k rows"
   ]
  },
  {
   "cell_type": "code",
   "execution_count": 3,
   "id": "2a92f67d",
   "metadata": {},
   "outputs": [
    {
     "data": {
      "application/vnd.plotly.v1+json": {
       "config": {
        "linkText": "Export to plot.ly",
        "plotlyServerURL": "https://plot.ly",
        "showLink": false
       },
       "data": [
        {
         "a": {
          "bdata": "AAAAAAAAAAAAAAAAAAAuQAAAAAAAAD5AAAAAAACARkAAAAAAAABOQAAAAAAAwFJAAAAAAACAVkAAAAAAAEBaQAAAAAAAAF5AAAAAAADgYEAAAAAAAMBiQAAAAAAAoGRAAAAAAACAZkAAAAAAAAAAAAAAAAAAAC5AAAAAAAAAPkAAAAAAAIBGQAAAAAAAAE5AAAAAAADAUkAAAAAAAIBWQAAAAAAAQFpAAAAAAAAAXkAAAAAAAOBgQAAAAAAAwGJAAAAAAACgZEAAAAAAAIBmQAAAAAAAAAAAAAAAAAAALkAAAAAAAAA+QAAAAAAAgEZAAAAAAAAATkAAAAAAAMBSQAAAAAAAgFZAAAAAAABAWkAAAAAAAABeQAAAAAAA4GBAAAAAAADAYkAAAAAAAKBkQAAAAAAAgGZAAAAAAAAAAAAAAAAAAAAuQAAAAAAAAD5AAAAAAACARkAAAAAAAABOQAAAAAAAwFJAAAAAAACAVkAAAAAAAEBaQAAAAAAAAF5AAAAAAADgYEAAAAAAAMBiQAAAAAAAoGRAAAAAAACAZkAAAAAAAAAAAAAAAAAAAC5AAAAAAAAAPkAAAAAAAIBGQAAAAAAAAE5AAAAAAADAUkAAAAAAAIBWQAAAAAAAQFpAAAAAAAAAXkAAAAAAAOBgQAAAAAAAwGJAAAAAAACgZEAAAAAAAIBmQAAAAAAAAAAAAAAAAAAALkAAAAAAAAA+QAAAAAAAgEZAAAAAAAAATkAAAAAAAMBSQAAAAAAAgFZAAAAAAABAWkAAAAAAAABeQAAAAAAA4GBAAAAAAADAYkAAAAAAAKBkQAAAAAAAgGZA",
          "dtype": "f8"
         },
         "b": {
          "bdata": "AAAAAAAAAAAAAAAAAAAAAAAAAAAAAAAAAAAAAAAAAAAAAAAAAAAAAAAAAAAAAAAAAAAAAAAAAAAAAAAAAAAAAAAAAAAAAAAAAAAAAAAAAAAAAAAAAAAAAAAAAAAAAAAAAAAAAAAAAAAAAAAAAAAQQAAAAAAAABBAAAAAAAAAEEAAAAAAAAAQQAAAAAAAABBAAAAAAAAAEEAAAAAAAAAQQAAAAAAAABBAAAAAAAAAEEAAAAAAAAAQQAAAAAAAABBAAAAAAAAAEEAAAAAAAAAQQAAAAAAAACBAAAAAAAAAIEAAAAAAAAAgQAAAAAAAACBAAAAAAAAAIEAAAAAAAAAgQAAAAAAAACBAAAAAAAAAIEAAAAAAAAAgQAAAAAAAACBAAAAAAAAAIEAAAAAAAAAgQAAAAAAAACBAAAAAAAAAKEAAAAAAAAAoQAAAAAAAAChAAAAAAAAAKEAAAAAAAAAoQAAAAAAAAChAAAAAAAAAKEAAAAAAAAAoQAAAAAAAAChAAAAAAAAAKEAAAAAAAAAoQAAAAAAAAChAAAAAAAAAKEAAAAAAAAAwQAAAAAAAADBAAAAAAAAAMEAAAAAAAAAwQAAAAAAAADBAAAAAAAAAMEAAAAAAAAAwQAAAAAAAADBAAAAAAAAAMEAAAAAAAAAwQAAAAAAAADBAAAAAAAAAMEAAAAAAAAAwQAAAAAAAADRAAAAAAAAANEAAAAAAAAA0QAAAAAAAADRAAAAAAAAANEAAAAAAAAA0QAAAAAAAADRAAAAAAAAANEAAAAAAAAA0QAAAAAAAADRAAAAAAAAANEAAAAAAAAA0QAAAAAAAADRA",
          "dtype": "f8"
         },
         "colorbar": {
          "title": {
           "side": "right",
           "text": "FC ME [ton/day]"
          }
         },
         "contours": {
          "end": 115.86,
          "size": 0.15894444444444444,
          "start": 87.25
         },
         "line": {
          "smoothing": 1,
          "width": 0
         },
         "type": "contourcarpet",
         "z": {
          "bdata": "PQrXo3AtV0A9CtejcC1XQD0K16NwLVdAPQrXo3AtV0A9CtejcC1XQD0K16NwLVdAPQrXo3AtV0A9CtejcC1XQD0K16NwLVdAPQrXo3AtV0A9CtejcC1XQD0K16NwLVdAPQrXo3AtV0B7FK5H4cpXQFK4HoXr0VdAPQrXo3DNV0CuR+F6FL5XQIXrUbgepVdAFK5H4XqEV0CPwvUoXF9XQClcj8L1OFdAhetRuB4VV0BmZmZmZvZWQK5H4XoU3lZAPQrXo3DNVkAUrkfhesRWQM3MzMzMnFhAAAAAAACwWEB7FK5H4apYQOxRuB6Fi1hAUrgehetRWEAUrkfhegRYQM3MzMzMrFdAZmZmZmZWV0DsUbgehQtXQMP1KFyP0lZAPQrXo3CtVkC4HoXrUZhWQI/C9Shcj1ZApHA9CtejWUB7FK5H4cpZQOxRuB6Fy1lAXI/C9SicWUBcj8L1KDxZQKRwPQrXs1hA16NwPQoXWEAfhetRuH5XQFK4HoXrAVdAH4XrUbiuVkBmZmZmZoZWQB+F61G4flZAw/UoXI+CVkDD9Shcj+JaQNejcD0KJ1tAZmZmZmY2W0Bcj8L1KPxaQI/C9Shcb1pAexSuR+GaWUBxPQrXo6BYQI/C9Shcr1dAj8L1KFzvVkCuR+F6FH5WQB+F61G4TlZAUrgehetBVkAUrkfhelRWQK5H4XoUXlxA7FG4HoXLXEDXo3A9CvdcQClcj8L1uFxAuB6F61H4W0DD9Shcj8JaQAAAAAAAUFlAXI/C9SjsV0AzMzMzM9NWQOF6FK5HQVZA7FG4HoXrVUAAAAAAANBVQGZmZmZm9lVA",
          "dtype": "f8"
         }
        },
        {
         "a": {
          "bdata": "AAAAAAAAAAAAAAAAAAAuQAAAAAAAAD5AAAAAAACARkAAAAAAAABOQAAAAAAAwFJAAAAAAACAVkAAAAAAAEBaQAAAAAAAAF5AAAAAAADgYEAAAAAAAMBiQAAAAAAAoGRAAAAAAACAZkAAAAAAAAAAAAAAAAAAAC5AAAAAAAAAPkAAAAAAAIBGQAAAAAAAAE5AAAAAAADAUkAAAAAAAIBWQAAAAAAAQFpAAAAAAAAAXkAAAAAAAOBgQAAAAAAAwGJAAAAAAACgZEAAAAAAAIBmQAAAAAAAAAAAAAAAAAAALkAAAAAAAAA+QAAAAAAAgEZAAAAAAAAATkAAAAAAAMBSQAAAAAAAgFZAAAAAAABAWkAAAAAAAABeQAAAAAAA4GBAAAAAAADAYkAAAAAAAKBkQAAAAAAAgGZAAAAAAAAAAAAAAAAAAAAuQAAAAAAAAD5AAAAAAACARkAAAAAAAABOQAAAAAAAwFJAAAAAAACAVkAAAAAAAEBaQAAAAAAAAF5AAAAAAADgYEAAAAAAAMBiQAAAAAAAoGRAAAAAAACAZkAAAAAAAAAAAAAAAAAAAC5AAAAAAAAAPkAAAAAAAIBGQAAAAAAAAE5AAAAAAADAUkAAAAAAAIBWQAAAAAAAQFpAAAAAAAAAXkAAAAAAAOBgQAAAAAAAwGJAAAAAAACgZEAAAAAAAIBmQAAAAAAAAAAAAAAAAAAALkAAAAAAAAA+QAAAAAAAgEZAAAAAAAAATkAAAAAAAMBSQAAAAAAAgFZAAAAAAABAWkAAAAAAAABeQAAAAAAA4GBAAAAAAADAYkAAAAAAAKBkQAAAAAAAgGZA",
          "dtype": "f8"
         },
         "b": {
          "bdata": "AAAAAAAAAAAAAAAAAAAAAAAAAAAAAAAAAAAAAAAAAAAAAAAAAAAAAAAAAAAAAAAAAAAAAAAAAAAAAAAAAAAAAAAAAAAAAAAAAAAAAAAAAAAAAAAAAAAAAAAAAAAAAAAAAAAAAAAAAAAAAAAAAAAQQAAAAAAAABBAAAAAAAAAEEAAAAAAAAAQQAAAAAAAABBAAAAAAAAAEEAAAAAAAAAQQAAAAAAAABBAAAAAAAAAEEAAAAAAAAAQQAAAAAAAABBAAAAAAAAAEEAAAAAAAAAQQAAAAAAAACBAAAAAAAAAIEAAAAAAAAAgQAAAAAAAACBAAAAAAAAAIEAAAAAAAAAgQAAAAAAAACBAAAAAAAAAIEAAAAAAAAAgQAAAAAAAACBAAAAAAAAAIEAAAAAAAAAgQAAAAAAAACBAAAAAAAAAKEAAAAAAAAAoQAAAAAAAAChAAAAAAAAAKEAAAAAAAAAoQAAAAAAAAChAAAAAAAAAKEAAAAAAAAAoQAAAAAAAAChAAAAAAAAAKEAAAAAAAAAoQAAAAAAAAChAAAAAAAAAKEAAAAAAAAAwQAAAAAAAADBAAAAAAAAAMEAAAAAAAAAwQAAAAAAAADBAAAAAAAAAMEAAAAAAAAAwQAAAAAAAADBAAAAAAAAAMEAAAAAAAAAwQAAAAAAAADBAAAAAAAAAMEAAAAAAAAAwQAAAAAAAADRAAAAAAAAANEAAAAAAAAA0QAAAAAAAADRAAAAAAAAANEAAAAAAAAA0QAAAAAAAADRAAAAAAAAANEAAAAAAAAA0QAAAAAAAADRAAAAAAAAANEAAAAAAAAA0QAAAAAAAADRA",
          "dtype": "f8"
         },
         "contours": {
          "coloring": "none",
          "showlabels": true
         },
         "line": {
          "smoothing": 1,
          "width": 1
         },
         "type": "contourcarpet",
         "z": {
          "bdata": "PQrXo3AtV0A9CtejcC1XQD0K16NwLVdAPQrXo3AtV0A9CtejcC1XQD0K16NwLVdAPQrXo3AtV0A9CtejcC1XQD0K16NwLVdAPQrXo3AtV0A9CtejcC1XQD0K16NwLVdAPQrXo3AtV0B7FK5H4cpXQFK4HoXr0VdAPQrXo3DNV0CuR+F6FL5XQIXrUbgepVdAFK5H4XqEV0CPwvUoXF9XQClcj8L1OFdAhetRuB4VV0BmZmZmZvZWQK5H4XoU3lZAPQrXo3DNVkAUrkfhesRWQM3MzMzMnFhAAAAAAACwWEB7FK5H4apYQOxRuB6Fi1hAUrgehetRWEAUrkfhegRYQM3MzMzMrFdAZmZmZmZWV0DsUbgehQtXQMP1KFyP0lZAPQrXo3CtVkC4HoXrUZhWQI/C9Shcj1ZApHA9CtejWUB7FK5H4cpZQOxRuB6Fy1lAXI/C9SicWUBcj8L1KDxZQKRwPQrXs1hA16NwPQoXWEAfhetRuH5XQFK4HoXrAVdAH4XrUbiuVkBmZmZmZoZWQB+F61G4flZAw/UoXI+CVkDD9Shcj+JaQNejcD0KJ1tAZmZmZmY2W0Bcj8L1KPxaQI/C9Shcb1pAexSuR+GaWUBxPQrXo6BYQI/C9Shcr1dAj8L1KFzvVkCuR+F6FH5WQB+F61G4TlZAUrgehetBVkAUrkfhelRWQK5H4XoUXlxA7FG4HoXLXEDXo3A9CvdcQClcj8L1uFxAuB6F61H4W0DD9Shcj8JaQAAAAAAAUFlAXI/C9SjsV0AzMzMzM9NWQOF6FK5HQVZA7FG4HoXrVUAAAAAAANBVQGZmZmZm9lVA",
          "dtype": "f8"
         }
        },
        {
         "a": {
          "bdata": "AAAAAAAAAAAAAAAAAAAuQAAAAAAAAD5AAAAAAACARkAAAAAAAABOQAAAAAAAwFJAAAAAAACAVkAAAAAAAEBaQAAAAAAAAF5AAAAAAADgYEAAAAAAAMBiQAAAAAAAoGRAAAAAAACAZkAAAAAAAAAAAAAAAAAAAC5AAAAAAAAAPkAAAAAAAIBGQAAAAAAAAE5AAAAAAADAUkAAAAAAAIBWQAAAAAAAQFpAAAAAAAAAXkAAAAAAAOBgQAAAAAAAwGJAAAAAAACgZEAAAAAAAIBmQAAAAAAAAAAAAAAAAAAALkAAAAAAAAA+QAAAAAAAgEZAAAAAAAAATkAAAAAAAMBSQAAAAAAAgFZAAAAAAABAWkAAAAAAAABeQAAAAAAA4GBAAAAAAADAYkAAAAAAAKBkQAAAAAAAgGZAAAAAAAAAAAAAAAAAAAAuQAAAAAAAAD5AAAAAAACARkAAAAAAAABOQAAAAAAAwFJAAAAAAACAVkAAAAAAAEBaQAAAAAAAAF5AAAAAAADgYEAAAAAAAMBiQAAAAAAAoGRAAAAAAACAZkAAAAAAAAAAAAAAAAAAAC5AAAAAAAAAPkAAAAAAAIBGQAAAAAAAAE5AAAAAAADAUkAAAAAAAIBWQAAAAAAAQFpAAAAAAAAAXkAAAAAAAOBgQAAAAAAAwGJAAAAAAACgZEAAAAAAAIBmQAAAAAAAAAAAAAAAAAAALkAAAAAAAAA+QAAAAAAAgEZAAAAAAAAATkAAAAAAAMBSQAAAAAAAgFZAAAAAAABAWkAAAAAAAABeQAAAAAAA4GBAAAAAAADAYkAAAAAAAKBkQAAAAAAAgGZA",
          "dtype": "f8"
         },
         "aaxis": {
          "showticklabels": "end",
          "ticksuffix": "°",
          "tickvals": [
           0,
           30,
           60,
           90,
           120,
           150,
           180
          ]
         },
         "b": {
          "bdata": "AAAAAAAAAAAAAAAAAAAAAAAAAAAAAAAAAAAAAAAAAAAAAAAAAAAAAAAAAAAAAAAAAAAAAAAAAAAAAAAAAAAAAAAAAAAAAAAAAAAAAAAAAAAAAAAAAAAAAAAAAAAAAAAAAAAAAAAAAAAAAAAAAAAQQAAAAAAAABBAAAAAAAAAEEAAAAAAAAAQQAAAAAAAABBAAAAAAAAAEEAAAAAAAAAQQAAAAAAAABBAAAAAAAAAEEAAAAAAAAAQQAAAAAAAABBAAAAAAAAAEEAAAAAAAAAQQAAAAAAAACBAAAAAAAAAIEAAAAAAAAAgQAAAAAAAACBAAAAAAAAAIEAAAAAAAAAgQAAAAAAAACBAAAAAAAAAIEAAAAAAAAAgQAAAAAAAACBAAAAAAAAAIEAAAAAAAAAgQAAAAAAAACBAAAAAAAAAKEAAAAAAAAAoQAAAAAAAAChAAAAAAAAAKEAAAAAAAAAoQAAAAAAAAChAAAAAAAAAKEAAAAAAAAAoQAAAAAAAAChAAAAAAAAAKEAAAAAAAAAoQAAAAAAAAChAAAAAAAAAKEAAAAAAAAAwQAAAAAAAADBAAAAAAAAAMEAAAAAAAAAwQAAAAAAAADBAAAAAAAAAMEAAAAAAAAAwQAAAAAAAADBAAAAAAAAAMEAAAAAAAAAwQAAAAAAAADBAAAAAAAAAMEAAAAAAAAAwQAAAAAAAADRAAAAAAAAANEAAAAAAAAA0QAAAAAAAADRAAAAAAAAANEAAAAAAAAA0QAAAAAAAADRAAAAAAAAANEAAAAAAAAA0QAAAAAAAADRAAAAAAAAANEAAAAAAAAA0QAAAAAAAADRA",
          "dtype": "f8"
         },
         "baxis": {
          "title": {
           "text": "TWS [m/s]"
          }
         },
         "type": "carpet",
         "x": {
          "bdata": "AAAAAAAAAAAAAAAAAAAAAAAAAAAAAAAAAAAAAAAAAAAAAAAAAAAAAAAAAAAAAAAAAAAAAAAAAAAAAAAAAAAAAAAAAAAAAAAAAAAAAAAAAAAAAAAAAAAAAAAAAAAAAAAAAAAAAAAAAAAAAAAAAAAAAJAGk8F9kPA//////////z/MO39mnqAGQKpMWOh6tgtAFb9IR93oDkAAAAAAAAAQQBW/SEfd6A5Aq0xY6Hq2C0DNO39mnqAGQP////////8/lQaTwX2Q8D8HXBQzJqbBPAAAAAAAAAAAkAaTwX2QAED///////8PQMw7f2aeoBZAqkxY6Hq2G0AVv0hH3egeQAAAAAAAACBAFb9IR93oHkCrTFjoerYbQM07f2aeoBZA////////D0CVBpPBfZAAQAdcFDMmptE8AAAAAAAAAADYiVyivNgIQP///////xdA2WzfzHb4IECAOUIu3MgkQFCPdvWlLidAAAAAAAAAKEBQj3b1pS4nQIA5Qi7cyCRA2mzfzHb4IED///////8XQOCJXKK82AhACoqeTDl52jwAAAAAAAAAAJAGk8F9kBBA////////H0DMO39mnqAmQKpMWOh6titAFb9IR93oLkAAAAAAAAAwQBW/SEfd6C5Aq0xY6Hq2K0DNO39mnqAmQP///////x9AlQaTwX2QEEAHXBQzJqbhPAAAAAAAAAAANMj3MZ20FED///////8jQL8KHwDGSCxA6i830QxSMUBtd41MilEzQAAAAAAAADRAbXeNTIpRM0DrLzfRDFIxQMAKHwDGSCxA////////I0A6yPcxnbQUQAlz2b+vD+Y8",
          "dtype": "f8"
         },
         "y": {
          "bdata": "AAAAAAAAAAAAAAAAAAAAAAAAAAAAAAAAAAAAAAAAAAAAAAAAAAAAAAAAAAAAAAAAAAAAAAAAAAAAAAAAAAAAgAAAAAAAAACAAAAAAAAAAIAAAAAAAAAAgAAAAAAAAACAAAAAAAAAAIAAAAAAAAAQQBW/SEfd6A5Aq0xY6Hq2C0DNO39mnqAGQAEAAAAAAABAkAaTwX2Q8D8HXBQzJqaxPJIGk8F9kPC//f///////7/MO39mnqAGwKtMWOh6tgvAFL9IR93oDsAAAAAAAAAQwAAAAAAAACBAFb9IR93oHkCrTFjoerYbQM07f2aeoBZAAQAAAAAAEECQBpPBfZAAQAdcFDMmpsE8kgaTwX2QAMD9//////8PwMw7f2aeoBbAq0xY6Hq2G8AUv0hH3egewAAAAAAAACDAAAAAAAAAKEBQj3b1pS4nQIA5Qi7cyCRA2mzfzHb4IEACAAAAAAAYQNiJXKK82AhACoqeTDl5yjzbiVyivNgIwP7//////xfA2WzfzHb4IMCAOUIu3MgkwE+PdvWlLifAAAAAAAAAKMAAAAAAAAAwQBW/SEfd6C5Aq0xY6Hq2K0DNO39mnqAmQAEAAAAAACBAkAaTwX2QEEAHXBQzJqbRPJIGk8F9kBDA/f//////H8DMO39mnqAmwKtMWOh6tivAFL9IR93oLsAAAAAAAAAwwAAAAAAAADRAbXeNTIpRM0DrLzfRDFIxQMAKHwDGSCxAAQAAAAAAJEA0yPcxnbQUQAlz2b+vD9Y8Nsj3MZ20FMD+//////8jwL8KHwDGSCzA6y830QxSMcBsd41MilEzwAAAAAAAADTA",
          "dtype": "f8"
         }
        }
       ],
       "layout": {
        "annotations": [
         {
          "font": {
           "size": 15
          },
          "showarrow": false,
          "text": "TWA [deg]",
          "textangle": 45,
          "x": 16,
          "xref": "x",
          "y": 16,
          "yref": "y"
         }
        ],
        "height": 800,
        "plot_bgcolor": "rgba(0,0,0,0)",
        "template": {
         "data": {
          "bar": [
           {
            "error_x": {
             "color": "#2a3f5f"
            },
            "error_y": {
             "color": "#2a3f5f"
            },
            "marker": {
             "line": {
              "color": "#E5ECF6",
              "width": 0.5
             },
             "pattern": {
              "fillmode": "overlay",
              "size": 10,
              "solidity": 0.2
             }
            },
            "type": "bar"
           }
          ],
          "barpolar": [
           {
            "marker": {
             "line": {
              "color": "#E5ECF6",
              "width": 0.5
             },
             "pattern": {
              "fillmode": "overlay",
              "size": 10,
              "solidity": 0.2
             }
            },
            "type": "barpolar"
           }
          ],
          "carpet": [
           {
            "aaxis": {
             "endlinecolor": "#2a3f5f",
             "gridcolor": "white",
             "linecolor": "white",
             "minorgridcolor": "white",
             "startlinecolor": "#2a3f5f"
            },
            "baxis": {
             "endlinecolor": "#2a3f5f",
             "gridcolor": "white",
             "linecolor": "white",
             "minorgridcolor": "white",
             "startlinecolor": "#2a3f5f"
            },
            "type": "carpet"
           }
          ],
          "choropleth": [
           {
            "colorbar": {
             "outlinewidth": 0,
             "ticks": ""
            },
            "type": "choropleth"
           }
          ],
          "contour": [
           {
            "colorbar": {
             "outlinewidth": 0,
             "ticks": ""
            },
            "colorscale": [
             [
              0,
              "#0d0887"
             ],
             [
              0.1111111111111111,
              "#46039f"
             ],
             [
              0.2222222222222222,
              "#7201a8"
             ],
             [
              0.3333333333333333,
              "#9c179e"
             ],
             [
              0.4444444444444444,
              "#bd3786"
             ],
             [
              0.5555555555555556,
              "#d8576b"
             ],
             [
              0.6666666666666666,
              "#ed7953"
             ],
             [
              0.7777777777777778,
              "#fb9f3a"
             ],
             [
              0.8888888888888888,
              "#fdca26"
             ],
             [
              1,
              "#f0f921"
             ]
            ],
            "type": "contour"
           }
          ],
          "contourcarpet": [
           {
            "colorbar": {
             "outlinewidth": 0,
             "ticks": ""
            },
            "type": "contourcarpet"
           }
          ],
          "heatmap": [
           {
            "colorbar": {
             "outlinewidth": 0,
             "ticks": ""
            },
            "colorscale": [
             [
              0,
              "#0d0887"
             ],
             [
              0.1111111111111111,
              "#46039f"
             ],
             [
              0.2222222222222222,
              "#7201a8"
             ],
             [
              0.3333333333333333,
              "#9c179e"
             ],
             [
              0.4444444444444444,
              "#bd3786"
             ],
             [
              0.5555555555555556,
              "#d8576b"
             ],
             [
              0.6666666666666666,
              "#ed7953"
             ],
             [
              0.7777777777777778,
              "#fb9f3a"
             ],
             [
              0.8888888888888888,
              "#fdca26"
             ],
             [
              1,
              "#f0f921"
             ]
            ],
            "type": "heatmap"
           }
          ],
          "histogram": [
           {
            "marker": {
             "pattern": {
              "fillmode": "overlay",
              "size": 10,
              "solidity": 0.2
             }
            },
            "type": "histogram"
           }
          ],
          "histogram2d": [
           {
            "colorbar": {
             "outlinewidth": 0,
             "ticks": ""
            },
            "colorscale": [
             [
              0,
              "#0d0887"
             ],
             [
              0.1111111111111111,
              "#46039f"
             ],
             [
              0.2222222222222222,
              "#7201a8"
             ],
             [
              0.3333333333333333,
              "#9c179e"
             ],
             [
              0.4444444444444444,
              "#bd3786"
             ],
             [
              0.5555555555555556,
              "#d8576b"
             ],
             [
              0.6666666666666666,
              "#ed7953"
             ],
             [
              0.7777777777777778,
              "#fb9f3a"
             ],
             [
              0.8888888888888888,
              "#fdca26"
             ],
             [
              1,
              "#f0f921"
             ]
            ],
            "type": "histogram2d"
           }
          ],
          "histogram2dcontour": [
           {
            "colorbar": {
             "outlinewidth": 0,
             "ticks": ""
            },
            "colorscale": [
             [
              0,
              "#0d0887"
             ],
             [
              0.1111111111111111,
              "#46039f"
             ],
             [
              0.2222222222222222,
              "#7201a8"
             ],
             [
              0.3333333333333333,
              "#9c179e"
             ],
             [
              0.4444444444444444,
              "#bd3786"
             ],
             [
              0.5555555555555556,
              "#d8576b"
             ],
             [
              0.6666666666666666,
              "#ed7953"
             ],
             [
              0.7777777777777778,
              "#fb9f3a"
             ],
             [
              0.8888888888888888,
              "#fdca26"
             ],
             [
              1,
              "#f0f921"
             ]
            ],
            "type": "histogram2dcontour"
           }
          ],
          "mesh3d": [
           {
            "colorbar": {
             "outlinewidth": 0,
             "ticks": ""
            },
            "type": "mesh3d"
           }
          ],
          "parcoords": [
           {
            "line": {
             "colorbar": {
              "outlinewidth": 0,
              "ticks": ""
             }
            },
            "type": "parcoords"
           }
          ],
          "pie": [
           {
            "automargin": true,
            "type": "pie"
           }
          ],
          "scatter": [
           {
            "fillpattern": {
             "fillmode": "overlay",
             "size": 10,
             "solidity": 0.2
            },
            "type": "scatter"
           }
          ],
          "scatter3d": [
           {
            "line": {
             "colorbar": {
              "outlinewidth": 0,
              "ticks": ""
             }
            },
            "marker": {
             "colorbar": {
              "outlinewidth": 0,
              "ticks": ""
             }
            },
            "type": "scatter3d"
           }
          ],
          "scattercarpet": [
           {
            "marker": {
             "colorbar": {
              "outlinewidth": 0,
              "ticks": ""
             }
            },
            "type": "scattercarpet"
           }
          ],
          "scattergeo": [
           {
            "marker": {
             "colorbar": {
              "outlinewidth": 0,
              "ticks": ""
             }
            },
            "type": "scattergeo"
           }
          ],
          "scattergl": [
           {
            "marker": {
             "colorbar": {
              "outlinewidth": 0,
              "ticks": ""
             }
            },
            "type": "scattergl"
           }
          ],
          "scattermap": [
           {
            "marker": {
             "colorbar": {
              "outlinewidth": 0,
              "ticks": ""
             }
            },
            "type": "scattermap"
           }
          ],
          "scattermapbox": [
           {
            "marker": {
             "colorbar": {
              "outlinewidth": 0,
              "ticks": ""
             }
            },
            "type": "scattermapbox"
           }
          ],
          "scatterpolar": [
           {
            "marker": {
             "colorbar": {
              "outlinewidth": 0,
              "ticks": ""
             }
            },
            "type": "scatterpolar"
           }
          ],
          "scatterpolargl": [
           {
            "marker": {
             "colorbar": {
              "outlinewidth": 0,
              "ticks": ""
             }
            },
            "type": "scatterpolargl"
           }
          ],
          "scatterternary": [
           {
            "marker": {
             "colorbar": {
              "outlinewidth": 0,
              "ticks": ""
             }
            },
            "type": "scatterternary"
           }
          ],
          "surface": [
           {
            "colorbar": {
             "outlinewidth": 0,
             "ticks": ""
            },
            "colorscale": [
             [
              0,
              "#0d0887"
             ],
             [
              0.1111111111111111,
              "#46039f"
             ],
             [
              0.2222222222222222,
              "#7201a8"
             ],
             [
              0.3333333333333333,
              "#9c179e"
             ],
             [
              0.4444444444444444,
              "#bd3786"
             ],
             [
              0.5555555555555556,
              "#d8576b"
             ],
             [
              0.6666666666666666,
              "#ed7953"
             ],
             [
              0.7777777777777778,
              "#fb9f3a"
             ],
             [
              0.8888888888888888,
              "#fdca26"
             ],
             [
              1,
              "#f0f921"
             ]
            ],
            "type": "surface"
           }
          ],
          "table": [
           {
            "cells": {
             "fill": {
              "color": "#EBF0F8"
             },
             "line": {
              "color": "white"
             }
            },
            "header": {
             "fill": {
              "color": "#C8D4E3"
             },
             "line": {
              "color": "white"
             }
            },
            "type": "table"
           }
          ]
         },
         "layout": {
          "annotationdefaults": {
           "arrowcolor": "#2a3f5f",
           "arrowhead": 0,
           "arrowwidth": 1
          },
          "autotypenumbers": "strict",
          "coloraxis": {
           "colorbar": {
            "outlinewidth": 0,
            "ticks": ""
           }
          },
          "colorscale": {
           "diverging": [
            [
             0,
             "#8e0152"
            ],
            [
             0.1,
             "#c51b7d"
            ],
            [
             0.2,
             "#de77ae"
            ],
            [
             0.3,
             "#f1b6da"
            ],
            [
             0.4,
             "#fde0ef"
            ],
            [
             0.5,
             "#f7f7f7"
            ],
            [
             0.6,
             "#e6f5d0"
            ],
            [
             0.7,
             "#b8e186"
            ],
            [
             0.8,
             "#7fbc41"
            ],
            [
             0.9,
             "#4d9221"
            ],
            [
             1,
             "#276419"
            ]
           ],
           "sequential": [
            [
             0,
             "#0d0887"
            ],
            [
             0.1111111111111111,
             "#46039f"
            ],
            [
             0.2222222222222222,
             "#7201a8"
            ],
            [
             0.3333333333333333,
             "#9c179e"
            ],
            [
             0.4444444444444444,
             "#bd3786"
            ],
            [
             0.5555555555555556,
             "#d8576b"
            ],
            [
             0.6666666666666666,
             "#ed7953"
            ],
            [
             0.7777777777777778,
             "#fb9f3a"
            ],
            [
             0.8888888888888888,
             "#fdca26"
            ],
            [
             1,
             "#f0f921"
            ]
           ],
           "sequentialminus": [
            [
             0,
             "#0d0887"
            ],
            [
             0.1111111111111111,
             "#46039f"
            ],
            [
             0.2222222222222222,
             "#7201a8"
            ],
            [
             0.3333333333333333,
             "#9c179e"
            ],
            [
             0.4444444444444444,
             "#bd3786"
            ],
            [
             0.5555555555555556,
             "#d8576b"
            ],
            [
             0.6666666666666666,
             "#ed7953"
            ],
            [
             0.7777777777777778,
             "#fb9f3a"
            ],
            [
             0.8888888888888888,
             "#fdca26"
            ],
            [
             1,
             "#f0f921"
            ]
           ]
          },
          "colorway": [
           "#636efa",
           "#EF553B",
           "#00cc96",
           "#ab63fa",
           "#FFA15A",
           "#19d3f3",
           "#FF6692",
           "#B6E880",
           "#FF97FF",
           "#FECB52"
          ],
          "font": {
           "color": "#2a3f5f"
          },
          "geo": {
           "bgcolor": "white",
           "lakecolor": "white",
           "landcolor": "#E5ECF6",
           "showlakes": true,
           "showland": true,
           "subunitcolor": "white"
          },
          "hoverlabel": {
           "align": "left"
          },
          "hovermode": "closest",
          "mapbox": {
           "style": "light"
          },
          "paper_bgcolor": "white",
          "plot_bgcolor": "#E5ECF6",
          "polar": {
           "angularaxis": {
            "gridcolor": "white",
            "linecolor": "white",
            "ticks": ""
           },
           "bgcolor": "#E5ECF6",
           "radialaxis": {
            "gridcolor": "white",
            "linecolor": "white",
            "ticks": ""
           }
          },
          "scene": {
           "xaxis": {
            "backgroundcolor": "#E5ECF6",
            "gridcolor": "white",
            "gridwidth": 2,
            "linecolor": "white",
            "showbackground": true,
            "ticks": "",
            "zerolinecolor": "white"
           },
           "yaxis": {
            "backgroundcolor": "#E5ECF6",
            "gridcolor": "white",
            "gridwidth": 2,
            "linecolor": "white",
            "showbackground": true,
            "ticks": "",
            "zerolinecolor": "white"
           },
           "zaxis": {
            "backgroundcolor": "#E5ECF6",
            "gridcolor": "white",
            "gridwidth": 2,
            "linecolor": "white",
            "showbackground": true,
            "ticks": "",
            "zerolinecolor": "white"
           }
          },
          "shapedefaults": {
           "line": {
            "color": "#2a3f5f"
           }
          },
          "ternary": {
           "aaxis": {
            "gridcolor": "white",
            "linecolor": "white",
            "ticks": ""
           },
           "baxis": {
            "gridcolor": "white",
            "linecolor": "white",
            "ticks": ""
           },
           "bgcolor": "#E5ECF6",
           "caxis": {
            "gridcolor": "white",
            "linecolor": "white",
            "ticks": ""
           }
          },
          "title": {
           "x": 0.05
          },
          "xaxis": {
           "automargin": true,
           "gridcolor": "white",
           "linecolor": "white",
           "ticks": "",
           "title": {
            "standoff": 15
           },
           "zerolinecolor": "white",
           "zerolinewidth": 2
          },
          "yaxis": {
           "automargin": true,
           "gridcolor": "white",
           "linecolor": "white",
           "ticks": "",
           "title": {
            "standoff": 15
           },
           "zerolinecolor": "white",
           "zerolinewidth": 2
          }
         }
        },
        "title": {
         "text": "CONTAINER PANAMAX",
         "x": 0.5
        },
        "updatemenus": [
         {
          "active": 0,
          "buttons": [
           {
            "args": [
             {
              "colorbar": [
               {
                "title": {
                 "side": "right",
                 "text": "Draft [m]"
                }
               },
               null,
               null
              ],
              "contours": [
               {
                "end": 8,
                "size": 0,
                "start": 8
               },
               {
                "coloring": "none",
                "showlabels": true
               },
               null
              ],
              "line": [
               {
                "smoothing": 1,
                "width": 0
               },
               {
                "smoothing": 1,
                "width": 1
               },
               null
              ],
              "z": [
               [
                8,
                8,
                8,
                8,
                8,
                8,
                8,
                8,
                8,
                8,
                8,
                8,
                8,
                8,
                8,
                8,
                8,
                8,
                8,
                8,
                8,
                8,
                8,
                8,
                8,
                8,
                8,
                8,
                8,
                8,
                8,
                8,
                8,
                8,
                8,
                8,
                8,
                8,
                8,
                8,
                8,
                8,
                8,
                8,
                8,
                8,
                8,
                8,
                8,
                8,
                8,
                8,
                8,
                8,
                8,
                8,
                8,
                8,
                8,
                8,
                8,
                8,
                8,
                8,
                8,
                8,
                8,
                8,
                8,
                8,
                8,
                8,
                8,
                8,
                8,
                8,
                8,
                8
               ],
               [
                8,
                8,
                8,
                8,
                8,
                8,
                8,
                8,
                8,
                8,
                8,
                8,
                8,
                8,
                8,
                8,
                8,
                8,
                8,
                8,
                8,
                8,
                8,
                8,
                8,
                8,
                8,
                8,
                8,
                8,
                8,
                8,
                8,
                8,
                8,
                8,
                8,
                8,
                8,
                8,
                8,
                8,
                8,
                8,
                8,
                8,
                8,
                8,
                8,
                8,
                8,
                8,
                8,
                8,
                8,
                8,
                8,
                8,
                8,
                8,
                8,
                8,
                8,
                8,
                8,
                8,
                8,
                8,
                8,
                8,
                8,
                8,
                8,
                8,
                8,
                8,
                8,
                8
               ],
               null
              ]
             }
            ],
            "label": "Draft [m]",
            "method": "restyle"
           },
           {
            "args": [
             {
              "colorbar": [
               {
                "title": {
                 "side": "right",
                 "text": "Speed [m/s]"
                }
               },
               null,
               null
              ],
              "contours": [
               {
                "end": 10,
                "size": 0,
                "start": 10
               },
               {
                "coloring": "none",
                "showlabels": true
               },
               null
              ],
              "line": [
               {
                "smoothing": 1,
                "width": 0
               },
               {
                "smoothing": 1,
                "width": 1
               },
               null
              ],
              "z": [
               [
                10,
                10,
                10,
                10,
                10,
                10,
                10,
                10,
                10,
                10,
                10,
                10,
                10,
                10,
                10,
                10,
                10,
                10,
                10,
                10,
                10,
                10,
                10,
                10,
                10,
                10,
                10,
                10,
                10,
                10,
                10,
                10,
                10,
                10,
                10,
                10,
                10,
                10,
                10,
                10,
                10,
                10,
                10,
                10,
                10,
                10,
                10,
                10,
                10,
                10,
                10,
                10,
                10,
                10,
                10,
                10,
                10,
                10,
                10,
                10,
                10,
                10,
                10,
                10,
                10,
                10,
                10,
                10,
                10,
                10,
                10,
                10,
                10,
                10,
                10,
                10,
                10,
                10
               ],
               [
                10,
                10,
                10,
                10,
                10,
                10,
                10,
                10,
                10,
                10,
                10,
                10,
                10,
                10,
                10,
                10,
                10,
                10,
                10,
                10,
                10,
                10,
                10,
                10,
                10,
                10,
                10,
                10,
                10,
                10,
                10,
                10,
                10,
                10,
                10,
                10,
                10,
                10,
                10,
                10,
                10,
                10,
                10,
                10,
                10,
                10,
                10,
                10,
                10,
                10,
                10,
                10,
                10,
                10,
                10,
                10,
                10,
                10,
                10,
                10,
                10,
                10,
                10,
                10,
                10,
                10,
                10,
                10,
                10,
                10,
                10,
                10,
                10,
                10,
                10,
                10,
                10,
                10
               ],
               null
              ]
             }
            ],
            "label": "Speed [m/s]",
            "method": "restyle"
           },
           {
            "args": [
             {
              "colorbar": [
               {
                "title": {
                 "side": "right",
                 "text": "TWS [m/s]"
                }
               },
               null,
               null
              ],
              "contours": [
               {
                "end": 20,
                "size": 0.1111111111111111,
                "start": 0
               },
               {
                "coloring": "none",
                "showlabels": true
               },
               null
              ],
              "line": [
               {
                "smoothing": 1,
                "width": 0
               },
               {
                "smoothing": 1,
                "width": 1
               },
               null
              ],
              "z": [
               [
                0,
                0,
                0,
                0,
                0,
                0,
                0,
                0,
                0,
                0,
                0,
                0,
                0,
                4,
                4,
                4,
                4,
                4,
                4,
                4,
                4,
                4,
                4,
                4,
                4,
                4,
                8,
                8,
                8,
                8,
                8,
                8,
                8,
                8,
                8,
                8,
                8,
                8,
                8,
                12,
                12,
                12,
                12,
                12,
                12,
                12,
                12,
                12,
                12,
                12,
                12,
                12,
                16,
                16,
                16,
                16,
                16,
                16,
                16,
                16,
                16,
                16,
                16,
                16,
                16,
                20,
                20,
                20,
                20,
                20,
                20,
                20,
                20,
                20,
                20,
                20,
                20,
                20
               ],
               [
                0,
                0,
                0,
                0,
                0,
                0,
                0,
                0,
                0,
                0,
                0,
                0,
                0,
                4,
                4,
                4,
                4,
                4,
                4,
                4,
                4,
                4,
                4,
                4,
                4,
                4,
                8,
                8,
                8,
                8,
                8,
                8,
                8,
                8,
                8,
                8,
                8,
                8,
                8,
                12,
                12,
                12,
                12,
                12,
                12,
                12,
                12,
                12,
                12,
                12,
                12,
                12,
                16,
                16,
                16,
                16,
                16,
                16,
                16,
                16,
                16,
                16,
                16,
                16,
                16,
                20,
                20,
                20,
                20,
                20,
                20,
                20,
                20,
                20,
                20,
                20,
                20,
                20
               ],
               null
              ]
             }
            ],
            "label": "TWS [m/s]",
            "method": "restyle"
           },
           {
            "args": [
             {
              "colorbar": [
               {
                "title": {
                 "side": "right",
                 "text": "TWA [deg]"
                }
               },
               null,
               null
              ],
              "contours": [
               {
                "end": 180,
                "size": 1,
                "start": 0
               },
               {
                "coloring": "none",
                "showlabels": true
               },
               null
              ],
              "line": [
               {
                "smoothing": 1,
                "width": 0
               },
               {
                "smoothing": 1,
                "width": 1
               },
               null
              ],
              "z": [
               [
                0,
                15,
                30,
                45,
                60,
                75,
                90,
                105,
                120,
                135,
                150,
                165,
                180,
                0,
                15,
                30,
                45,
                60,
                75,
                90,
                105,
                120,
                135,
                150,
                165,
                180,
                0,
                15,
                30,
                45,
                60,
                75,
                90,
                105,
                120,
                135,
                150,
                165,
                180,
                0,
                15,
                30,
                45,
                60,
                75,
                90,
                105,
                120,
                135,
                150,
                165,
                180,
                0,
                15,
                30,
                45,
                60,
                75,
                90,
                105,
                120,
                135,
                150,
                165,
                180,
                0,
                15,
                30,
                45,
                60,
                75,
                90,
                105,
                120,
                135,
                150,
                165,
                180
               ],
               [
                0,
                15,
                30,
                45,
                60,
                75,
                90,
                105,
                120,
                135,
                150,
                165,
                180,
                0,
                15,
                30,
                45,
                60,
                75,
                90,
                105,
                120,
                135,
                150,
                165,
                180,
                0,
                15,
                30,
                45,
                60,
                75,
                90,
                105,
                120,
                135,
                150,
                165,
                180,
                0,
                15,
                30,
                45,
                60,
                75,
                90,
                105,
                120,
                135,
                150,
                165,
                180,
                0,
                15,
                30,
                45,
                60,
                75,
                90,
                105,
                120,
                135,
                150,
                165,
                180,
                0,
                15,
                30,
                45,
                60,
                75,
                90,
                105,
                120,
                135,
                150,
                165,
                180
               ],
               null
              ]
             }
            ],
            "label": "TWA [deg]",
            "method": "restyle"
           },
           {
            "args": [
             {
              "colorbar": [
               {
                "title": {
                 "side": "right",
                 "text": "Wave direction [deg]"
                }
               },
               null,
               null
              ],
              "contours": [
               {
                "end": 60,
                "size": 0,
                "start": 60
               },
               {
                "coloring": "none",
                "showlabels": true
               },
               null
              ],
              "line": [
               {
                "smoothing": 1,
                "width": 0
               },
               {
                "smoothing": 1,
                "width": 1
               },
               null
              ],
              "z": [
               [
                60,
                60,
                60,
                60,
                60,
                60,
                60,
                60,
                60,
                60,
                60,
                60,
                60,
                60,
                60,
                60,
                60,
                60,
                60,
                60,
                60,
                60,
                60,
                60,
                60,
                60,
                60,
                60,
                60,
                60,
                60,
                60,
                60,
                60,
                60,
                60,
                60,
                60,
                60,
                60,
                60,
                60,
                60,
                60,
                60,
                60,
                60,
                60,
                60,
                60,
                60,
                60,
                60,
                60,
                60,
                60,
                60,
                60,
                60,
                60,
                60,
                60,
                60,
                60,
                60,
                60,
                60,
                60,
                60,
                60,
                60,
                60,
                60,
                60,
                60,
                60,
                60,
                60
               ],
               [
                60,
                60,
                60,
                60,
                60,
                60,
                60,
                60,
                60,
                60,
                60,
                60,
                60,
                60,
                60,
                60,
                60,
                60,
                60,
                60,
                60,
                60,
                60,
                60,
                60,
                60,
                60,
                60,
                60,
                60,
                60,
                60,
                60,
                60,
                60,
                60,
                60,
                60,
                60,
                60,
                60,
                60,
                60,
                60,
                60,
                60,
                60,
                60,
                60,
                60,
                60,
                60,
                60,
                60,
                60,
                60,
                60,
                60,
                60,
                60,
                60,
                60,
                60,
                60,
                60,
                60,
                60,
                60,
                60,
                60,
                60,
                60,
                60,
                60,
                60,
                60,
                60,
                60
               ],
               null
              ]
             }
            ],
            "label": "Wave direction [deg]",
            "method": "restyle"
           },
           {
            "args": [
             {
              "colorbar": [
               {
                "title": {
                 "side": "right",
                 "text": "Wave height Hs [m]"
                }
               },
               null,
               null
              ],
              "contours": [
               {
                "end": 4,
                "size": 0,
                "start": 4
               },
               {
                "coloring": "none",
                "showlabels": true
               },
               null
              ],
              "line": [
               {
                "smoothing": 1,
                "width": 0
               },
               {
                "smoothing": 1,
                "width": 1
               },
               null
              ],
              "z": [
               [
                4,
                4,
                4,
                4,
                4,
                4,
                4,
                4,
                4,
                4,
                4,
                4,
                4,
                4,
                4,
                4,
                4,
                4,
                4,
                4,
                4,
                4,
                4,
                4,
                4,
                4,
                4,
                4,
                4,
                4,
                4,
                4,
                4,
                4,
                4,
                4,
                4,
                4,
                4,
                4,
                4,
                4,
                4,
                4,
                4,
                4,
                4,
                4,
                4,
                4,
                4,
                4,
                4,
                4,
                4,
                4,
                4,
                4,
                4,
                4,
                4,
                4,
                4,
                4,
                4,
                4,
                4,
                4,
                4,
                4,
                4,
                4,
                4,
                4,
                4,
                4,
                4,
                4
               ],
               [
                4,
                4,
                4,
                4,
                4,
                4,
                4,
                4,
                4,
                4,
                4,
                4,
                4,
                4,
                4,
                4,
                4,
                4,
                4,
                4,
                4,
                4,
                4,
                4,
                4,
                4,
                4,
                4,
                4,
                4,
                4,
                4,
                4,
                4,
                4,
                4,
                4,
                4,
                4,
                4,
                4,
                4,
                4,
                4,
                4,
                4,
                4,
                4,
                4,
                4,
                4,
                4,
                4,
                4,
                4,
                4,
                4,
                4,
                4,
                4,
                4,
                4,
                4,
                4,
                4,
                4,
                4,
                4,
                4,
                4,
                4,
                4,
                4,
                4,
                4,
                4,
                4,
                4
               ],
               null
              ]
             }
            ],
            "label": "Wave height Hs [m]",
            "method": "restyle"
           },
           {
            "args": [
             {
              "colorbar": [
               {
                "title": {
                 "side": "right",
                 "text": "FC ME [ton/day]"
                }
               },
               null,
               null
              ],
              "contours": [
               {
                "end": 115.86,
                "size": 0.15894444444444444,
                "start": 87.25
               },
               {
                "coloring": "none",
                "showlabels": true
               },
               null
              ],
              "line": [
               {
                "smoothing": 1,
                "width": 0
               },
               {
                "smoothing": 1,
                "width": 1
               },
               null
              ],
              "z": [
               [
                92.71,
                92.71,
                92.71,
                92.71,
                92.71,
                92.71,
                92.71,
                92.71,
                92.71,
                92.71,
                92.71,
                92.71,
                92.71,
                95.17,
                95.28,
                95.21,
                94.97,
                94.58,
                94.07,
                93.49,
                92.89,
                92.33,
                91.85,
                91.47,
                91.21,
                91.07,
                98.45,
                98.75,
                98.67,
                98.18,
                97.28,
                96.07,
                94.7,
                93.35,
                92.18,
                91.29,
                90.71,
                90.38,
                90.24,
                102.56,
                103.17,
                103.18,
                102.44,
                100.94,
                98.81,
                96.36,
                93.98,
                92.03,
                90.73,
                90.1,
                89.98,
                90.04,
                107.54,
                108.61,
                108.85,
                107.94,
                105.74,
                102.42,
                98.51,
                94.74,
                91.74,
                89.97,
                89.23,
                89.03,
                89.32,
                113.47,
                115.18,
                115.86,
                114.89,
                111.88,
                107.04,
                101.25,
                95.69,
                91.3,
                89.02,
                87.68,
                87.25,
                87.85
               ],
               [
                92.71,
                92.71,
                92.71,
                92.71,
                92.71,
                92.71,
                92.71,
                92.71,
                92.71,
                92.71,
                92.71,
                92.71,
                92.71,
                95.17,
                95.28,
                95.21,
                94.97,
                94.58,
                94.07,
                93.49,
                92.89,
                92.33,
                91.85,
                91.47,
                91.21,
                91.07,
                98.45,
                98.75,
                98.67,
                98.18,
                97.28,
                96.07,
                94.7,
                93.35,
                92.18,
                91.29,
                90.71,
                90.38,
                90.24,
                102.56,
                103.17,
                103.18,
                102.44,
                100.94,
                98.81,
                96.36,
                93.98,
                92.03,
                90.73,
                90.1,
                89.98,
                90.04,
                107.54,
                108.61,
                108.85,
                107.94,
                105.74,
                102.42,
                98.51,
                94.74,
                91.74,
                89.97,
                89.23,
                89.03,
                89.32,
                113.47,
                115.18,
                115.86,
                114.89,
                111.88,
                107.04,
                101.25,
                95.69,
                91.3,
                89.02,
                87.68,
                87.25,
                87.85
               ],
               null
              ]
             }
            ],
            "label": "FC ME [ton/day]",
            "method": "restyle"
           },
           {
            "args": [
             {
              "colorbar": [
               {
                "title": {
                 "side": "right",
                 "text": "Power brake [kW]"
                }
               },
               null,
               null
              ],
              "contours": [
               {
                "end": 27375.06,
                "size": 41.22261111111111,
                "start": 19954.99
               },
               {
                "coloring": "none",
                "showlabels": true
               },
               null
              ],
              "line": [
               {
                "smoothing": 1,
                "width": 0
               },
               {
                "smoothing": 1,
                "width": 1
               },
               null
              ],
              "z": [
               [
                21393.64,
                21393.64,
                21393.64,
                21393.64,
                21393.64,
                21393.64,
                21393.64,
                21393.64,
                21393.64,
                21393.64,
                21393.64,
                21393.64,
                21393.64,
                22041.66,
                22069.15,
                22052.11,
                21989.66,
                21886.1,
                21750.78,
                21596.91,
                21439.35,
                21292,
                21165.52,
                21066.35,
                20997.38,
                20960.07,
                22904.14,
                22984,
                22963.43,
                22832.59,
                22596.54,
                22278.32,
                21917.26,
                21560.8,
                21251.98,
                21017.9,
                20864.33,
                20778.35,
                20740.95,
                23981.06,
                24141.78,
                24142.13,
                23949.79,
                23557.25,
                22998.8,
                22353.62,
                21726.76,
                21214.14,
                20870.65,
                20704.46,
                20672.5,
                20689.47,
                25272.44,
                25547.11,
                25606.86,
                25374.89,
                24807.4,
                23944.25,
                22920.56,
                21927.23,
                21136.19,
                20669.39,
                20476.17,
                20422.66,
                20498.72,
                26778.28,
                27204.95,
                27375.06,
                27133.4,
                26377.56,
                25143.68,
                23638.36,
                22177.54,
                21021.82,
                20419.93,
                20067.54,
                19954.99,
                20112.98
               ],
               [
                21393.64,
                21393.64,
                21393.64,
                21393.64,
                21393.64,
                21393.64,
                21393.64,
                21393.64,
                21393.64,
                21393.64,
                21393.64,
                21393.64,
                21393.64,
                22041.66,
                22069.15,
                22052.11,
                21989.66,
                21886.1,
                21750.78,
                21596.91,
                21439.35,
                21292,
                21165.52,
                21066.35,
                20997.38,
                20960.07,
                22904.14,
                22984,
                22963.43,
                22832.59,
                22596.54,
                22278.32,
                21917.26,
                21560.8,
                21251.98,
                21017.9,
                20864.33,
                20778.35,
                20740.95,
                23981.06,
                24141.78,
                24142.13,
                23949.79,
                23557.25,
                22998.8,
                22353.62,
                21726.76,
                21214.14,
                20870.65,
                20704.46,
                20672.5,
                20689.47,
                25272.44,
                25547.11,
                25606.86,
                25374.89,
                24807.4,
                23944.25,
                22920.56,
                21927.23,
                21136.19,
                20669.39,
                20476.17,
                20422.66,
                20498.72,
                26778.28,
                27204.95,
                27375.06,
                27133.4,
                26377.56,
                25143.68,
                23638.36,
                22177.54,
                21021.82,
                20419.93,
                20067.54,
                19954.99,
                20112.98
               ],
               null
              ]
             }
            ],
            "label": "Power brake [kW]",
            "method": "restyle"
           },
           {
            "args": [
             {
              "colorbar": [
               {
                "title": {
                 "side": "right",
                 "text": "Engine flag [-]"
                }
               },
               null,
               null
              ],
              "contours": [
               {
                "end": 1,
                "size": 0,
                "start": 1
               },
               {
                "coloring": "none",
                "showlabels": true
               },
               null
              ],
              "line": [
               {
                "smoothing": 1,
                "width": 0
               },
               {
                "smoothing": 1,
                "width": 1
               },
               null
              ],
              "z": [
               [
                1,
                1,
                1,
                1,
                1,
                1,
                1,
                1,
                1,
                1,
                1,
                1,
                1,
                1,
                1,
                1,
                1,
                1,
                1,
                1,
                1,
                1,
                1,
                1,
                1,
                1,
                1,
                1,
                1,
                1,
                1,
                1,
                1,
                1,
                1,
                1,
                1,
                1,
                1,
                1,
                1,
                1,
                1,
                1,
                1,
                1,
                1,
                1,
                1,
                1,
                1,
                1,
                1,
                1,
                1,
                1,
                1,
                1,
                1,
                1,
                1,
                1,
                1,
                1,
                1,
                1,
                1,
                1,
                1,
                1,
                1,
                1,
                1,
                1,
                1,
                1,
                1,
                1
               ],
               [
                1,
                1,
                1,
                1,
                1,
                1,
                1,
                1,
                1,
                1,
                1,
                1,
                1,
                1,
                1,
                1,
                1,
                1,
                1,
                1,
                1,
                1,
                1,
                1,
                1,
                1,
                1,
                1,
                1,
                1,
                1,
                1,
                1,
                1,
                1,
                1,
                1,
                1,
                1,
                1,
                1,
                1,
                1,
                1,
                1,
                1,
                1,
                1,
                1,
                1,
                1,
                1,
                1,
                1,
                1,
                1,
                1,
                1,
                1,
                1,
                1,
                1,
                1,
                1,
                1,
                1,
                1,
                1,
                1,
                1,
                1,
                1,
                1,
                1,
                1,
                1,
                1,
                1
               ],
               null
              ]
             }
            ],
            "label": "Engine flag [-]",
            "method": "restyle"
           },
           {
            "args": [
             {
              "colorbar": [
               {
                "title": {
                 "side": "right",
                 "text": "FC ME LIM [ton/day]"
                }
               },
               null,
               null
              ],
              "contours": [
               {
                "end": 115.86,
                "size": 0.15894444444444444,
                "start": 87.25
               },
               {
                "coloring": "none",
                "showlabels": true
               },
               null
              ],
              "line": [
               {
                "smoothing": 1,
                "width": 0
               },
               {
                "smoothing": 1,
                "width": 1
               },
               null
              ],
              "z": [
               [
                92.71,
                92.71,
                92.71,
                92.71,
                92.71,
                92.71,
                92.71,
                92.71,
                92.71,
                92.71,
                92.71,
                92.71,
                92.71,
                95.17,
                95.28,
                95.21,
                94.97,
                94.58,
                94.07,
                93.49,
                92.89,
                92.33,
                91.85,
                91.47,
                91.21,
                91.07,
                98.45,
                98.75,
                98.67,
                98.18,
                97.28,
                96.07,
                94.7,
                93.35,
                92.18,
                91.29,
                90.71,
                90.38,
                90.24,
                102.56,
                103.17,
                103.18,
                102.44,
                100.94,
                98.81,
                96.36,
                93.98,
                92.03,
                90.73,
                90.1,
                89.98,
                90.04,
                107.54,
                108.61,
                108.85,
                107.94,
                105.74,
                102.42,
                98.51,
                94.74,
                91.74,
                89.97,
                89.23,
                89.03,
                89.32,
                113.47,
                115.18,
                115.86,
                114.89,
                111.88,
                107.04,
                101.25,
                95.69,
                91.3,
                89.02,
                87.68,
                87.25,
                87.85
               ],
               [
                92.71,
                92.71,
                92.71,
                92.71,
                92.71,
                92.71,
                92.71,
                92.71,
                92.71,
                92.71,
                92.71,
                92.71,
                92.71,
                95.17,
                95.28,
                95.21,
                94.97,
                94.58,
                94.07,
                93.49,
                92.89,
                92.33,
                91.85,
                91.47,
                91.21,
                91.07,
                98.45,
                98.75,
                98.67,
                98.18,
                97.28,
                96.07,
                94.7,
                93.35,
                92.18,
                91.29,
                90.71,
                90.38,
                90.24,
                102.56,
                103.17,
                103.18,
                102.44,
                100.94,
                98.81,
                96.36,
                93.98,
                92.03,
                90.73,
                90.1,
                89.98,
                90.04,
                107.54,
                108.61,
                108.85,
                107.94,
                105.74,
                102.42,
                98.51,
                94.74,
                91.74,
                89.97,
                89.23,
                89.03,
                89.32,
                113.47,
                115.18,
                115.86,
                114.89,
                111.88,
                107.04,
                101.25,
                95.69,
                91.3,
                89.02,
                87.68,
                87.25,
                87.85
               ],
               null
              ]
             }
            ],
            "label": "FC ME LIM [ton/day]",
            "method": "restyle"
           },
           {
            "args": [
             {
              "colorbar": [
               {
                "title": {
                 "side": "right",
                 "text": "Power brake LIM [kW]"
                }
               },
               null,
               null
              ],
              "contours": [
               {
                "end": 27375.06,
                "size": 41.22261111111111,
                "start": 19954.99
               },
               {
                "coloring": "none",
                "showlabels": true
               },
               null
              ],
              "line": [
               {
                "smoothing": 1,
                "width": 0
               },
               {
                "smoothing": 1,
                "width": 1
               },
               null
              ],
              "z": [
               [
                21393.64,
                21393.64,
                21393.64,
                21393.64,
                21393.64,
                21393.64,
                21393.64,
                21393.64,
                21393.64,
                21393.64,
                21393.64,
                21393.64,
                21393.64,
                22041.66,
                22069.15,
                22052.11,
                21989.66,
                21886.1,
                21750.78,
                21596.91,
                21439.35,
                21292,
                21165.52,
                21066.35,
                20997.38,
                20960.07,
                22904.14,
                22984,
                22963.43,
                22832.59,
                22596.54,
                22278.32,
                21917.26,
                21560.8,
                21251.98,
                21017.9,
                20864.33,
                20778.35,
                20740.95,
                23981.06,
                24141.78,
                24142.13,
                23949.79,
                23557.25,
                22998.8,
                22353.62,
                21726.76,
                21214.14,
                20870.65,
                20704.46,
                20672.5,
                20689.47,
                25272.44,
                25547.11,
                25606.86,
                25374.89,
                24807.4,
                23944.25,
                22920.56,
                21927.23,
                21136.19,
                20669.39,
                20476.17,
                20422.66,
                20498.72,
                26778.28,
                27204.95,
                27375.06,
                27133.4,
                26377.56,
                25143.68,
                23638.36,
                22177.54,
                21021.82,
                20419.93,
                20067.54,
                19954.99,
                20112.98
               ],
               [
                21393.64,
                21393.64,
                21393.64,
                21393.64,
                21393.64,
                21393.64,
                21393.64,
                21393.64,
                21393.64,
                21393.64,
                21393.64,
                21393.64,
                21393.64,
                22041.66,
                22069.15,
                22052.11,
                21989.66,
                21886.1,
                21750.78,
                21596.91,
                21439.35,
                21292,
                21165.52,
                21066.35,
                20997.38,
                20960.07,
                22904.14,
                22984,
                22963.43,
                22832.59,
                22596.54,
                22278.32,
                21917.26,
                21560.8,
                21251.98,
                21017.9,
                20864.33,
                20778.35,
                20740.95,
                23981.06,
                24141.78,
                24142.13,
                23949.79,
                23557.25,
                22998.8,
                22353.62,
                21726.76,
                21214.14,
                20870.65,
                20704.46,
                20672.5,
                20689.47,
                25272.44,
                25547.11,
                25606.86,
                25374.89,
                24807.4,
                23944.25,
                22920.56,
                21927.23,
                21136.19,
                20669.39,
                20476.17,
                20422.66,
                20498.72,
                26778.28,
                27204.95,
                27375.06,
                27133.4,
                26377.56,
                25143.68,
                23638.36,
                22177.54,
                21021.82,
                20419.93,
                20067.54,
                19954.99,
                20112.98
               ],
               null
              ]
             }
            ],
            "label": "Power brake LIM [kW]",
            "method": "restyle"
           }
          ]
         }
        ],
        "width": 800,
        "xaxis": {
         "showgrid": false,
         "visible": false,
         "zeroline": false
        },
        "yaxis": {
         "range": [
          -23,
          23
         ],
         "scaleanchor": "x",
         "scaleratio": 1,
         "showgrid": false,
         "visible": false,
         "zeroline": false
        }
       }
      }
     },
     "metadata": {},
     "output_type": "display_data"
    }
   ],
   "source": [
    "\n",
    "import plotly.offline as py\n",
    "from lib.polar_plot import polar_plot\n",
    "\n",
    "import numpy as np\n",
    "\n",
    "# input parameters\n",
    "vessel_id = \"c87a4caa-5cdb-4cdb-af32-ba710c2fa8b6\"\n",
    "\n",
    "# specify values for the polar plot\n",
    "draft = \"ballast_draft\"\n",
    "speed = 10\n",
    "waveDir = np.radians(60)\n",
    "sigWaveHeight = 4\n",
    "\n",
    "query = gql(\"\"\"\n",
    "    query fuelTable($id: String!, $draft: String, $speed: Float, $tws: Float, $twa: Float, $waveDir: Float, $sigWaveHeight: Float) {\n",
    "        digitalShip {\n",
    "            get(id: $id) {\n",
    "            name\n",
    "                fuelTable(draft: $draft, speed: $speed, tws: $tws, twa: $twa, waveDir: $waveDir, sigWaveHeight: $sigWaveHeight)\n",
    "            }\n",
    "        }\n",
    "    }\n",
    "\"\"\")\n",
    "\n",
    "result = client.execute(query, variable_values={\n",
    "    \"id\": vessel_id,\n",
    "    \"draft\": draft,\n",
    "    \"speed\": speed,\n",
    "    \"tws\": None,\n",
    "    \"twa\": None,\n",
    "    \"waveDir\": waveDir,\n",
    "    \"sigWaveHeight\": sigWaveHeight\n",
    "})\n",
    "\n",
    "vessel_name = result['digitalShip']['get']['name']\n",
    "\n",
    "fuel_table = result['digitalShip']['get']['fuelTable']\n",
    "fuel_table_df = pd.DataFrame(fuel_table)\n",
    "\n",
    "fig = polar_plot(fuel_table_df, vessel_name, 'FC ME [ton/day]', [])\n",
    "fig.update_layout(\n",
    "    width=800,\n",
    "    height=800,\n",
    ")\n",
    "py.iplot(fig, filename='jupyter-fig-1')\n"
   ]
  }
 ],
 "metadata": {
  "kernelspec": {
   "display_name": "api-client",
   "language": "python",
   "name": "python3"
  },
  "language_info": {
   "codemirror_mode": {
    "name": "ipython",
    "version": 3
   },
   "file_extension": ".py",
   "mimetype": "text/x-python",
   "name": "python",
   "nbconvert_exporter": "python",
   "pygments_lexer": "ipython3",
   "version": "3.12.5"
  }
 },
 "nbformat": 4,
 "nbformat_minor": 5
}
